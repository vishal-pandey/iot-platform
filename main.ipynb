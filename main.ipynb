{
 "cells": [
  {
   "cell_type": "code",
   "execution_count": 1,
   "metadata": {},
   "outputs": [],
   "source": [
    "# !pip3 install paho-mqtt==1.5.0"
   ]
  },
  {
   "cell_type": "code",
   "execution_count": 26,
   "metadata": {},
   "outputs": [],
   "source": [
    "import requests\n",
    "import time\n",
    "import paho.mqtt.client as mqtt\n",
    "import ssl\n",
    "import os"
   ]
  },
  {
   "cell_type": "code",
   "execution_count": null,
   "metadata": {},
   "outputs": [],
   "source": []
  },
  {
   "cell_type": "code",
   "execution_count": 27,
   "metadata": {},
   "outputs": [],
   "source": [
    "class IotC():\n",
    "    apiEndPoint = \"https://iot.softwaremakeinindia.com/iot/\"\n",
    "    \n",
    "    def __init__(self, key):\n",
    "        self.key = key\n",
    "        payload = {'key': self.key}\n",
    "        res = requests.post(self.apiEndPoint, data=payload).json()\n",
    "        self.username = res['username']\n",
    "        self.password = res['password']\n",
    "        \n",
    "        self.client = mqtt.Client()\n",
    "        \n",
    "        self.client.tls_set()\n",
    "        self.client.tls_insecure_set(True)\n",
    "        self.client.username_pw_set(self.username, self.password)\n",
    "        self.client.connect(\"iot.softwaremakeinindia.com\", 8883, 60)\n",
    "\n",
    "        \n",
    "    def send(self, deviceid, message):\n",
    "        self.client.publish(deviceid, \"Python publish Test\")\n",
    "        \n",
    "    "
   ]
  },
  {
   "cell_type": "code",
   "execution_count": 28,
   "metadata": {},
   "outputs": [],
   "source": [
    "ob = IotC(\"7f9420a7-f3b7-460b-911f-1b7b73c9262d\")"
   ]
  },
  {
   "cell_type": "code",
   "execution_count": 29,
   "metadata": {},
   "outputs": [],
   "source": [
    "ob.send(\"test\", \"This is testing\")"
   ]
  },
  {
   "cell_type": "code",
   "execution_count": null,
   "metadata": {},
   "outputs": [],
   "source": []
  },
  {
   "cell_type": "code",
   "execution_count": null,
   "metadata": {},
   "outputs": [],
   "source": []
  }
 ],
 "metadata": {
  "kernelspec": {
   "display_name": "Python 3",
   "language": "python",
   "name": "python3"
  },
  "language_info": {
   "codemirror_mode": {
    "name": "ipython",
    "version": 3
   },
   "file_extension": ".py",
   "mimetype": "text/x-python",
   "name": "python",
   "nbconvert_exporter": "python",
   "pygments_lexer": "ipython3",
   "version": "3.7.1"
  }
 },
 "nbformat": 4,
 "nbformat_minor": 2
}
