{
 "cells": [
  {
   "cell_type": "code",
   "execution_count": 1,
   "metadata": {},
   "outputs": [],
   "source": [
    "# !pip3 install paho-mqtt==1.5.0"
   ]
  },
  {
   "cell_type": "code",
   "execution_count": 2,
   "metadata": {},
   "outputs": [],
   "source": [
    "import requests\n",
    "import time\n",
    "import paho.mqtt.client as mqtt\n",
    "import ssl\n",
    "import os"
   ]
  },
  {
   "cell_type": "code",
   "execution_count": null,
   "metadata": {},
   "outputs": [],
   "source": []
  },
  {
   "cell_type": "code",
   "execution_count": 7,
   "metadata": {},
   "outputs": [],
   "source": [
    "class IotC():\n",
    "    apiEndPoint = \"https://iot.softwaremakeinindia.com/iot/\"\n",
    "    \n",
    "    def __init__(self, key):\n",
    "        self.key = key\n",
    "        payload = {'key': self.key}\n",
    "        res = requests.post(self.apiEndPoint, data=payload).json()\n",
    "        self.username = res['username']\n",
    "        self.password = res['password']\n",
    "        \n",
    "        self.client = mqtt.Client()\n",
    "        \n",
    "        self.client.tls_set()\n",
    "        self.client.tls_insecure_set(True)\n",
    "        self.client.username_pw_set(self.username, self.password)\n",
    "        self.client.connect(\"iot.softwaremakeinindia.com\", 8883, 60)\n",
    "\n",
    "        \n",
    "    def send(deviceid, message):\n",
    "        client.publish(deviceid, \"Python publish Test\")\n",
    "        \n",
    "    "
   ]
  },
  {
   "cell_type": "code",
   "execution_count": 4,
   "metadata": {},
   "outputs": [],
   "source": [
    "ob = IotC(\"74425a47-1c19-4b70-88dd-a2facbe778d3\")"
   ]
  },
  {
   "cell_type": "code",
   "execution_count": 5,
   "metadata": {},
   "outputs": [
    {
     "data": {
      "text/plain": [
       "'cc9a4c1b-86d8-4b96-9bd8-5cf441ec1f4a'"
      ]
     },
     "execution_count": 5,
     "metadata": {},
     "output_type": "execute_result"
    }
   ],
   "source": [
    "ob.username"
   ]
  },
  {
   "cell_type": "code",
   "execution_count": 6,
   "metadata": {},
   "outputs": [
    {
     "data": {
      "text/plain": [
       "'132af932-1862-4831-86b0-6c3bf7853763'"
      ]
     },
     "execution_count": 6,
     "metadata": {},
     "output_type": "execute_result"
    }
   ],
   "source": [
    "ob.password"
   ]
  },
  {
   "cell_type": "code",
   "execution_count": null,
   "metadata": {},
   "outputs": [],
   "source": []
  },
  {
   "cell_type": "code",
   "execution_count": null,
   "metadata": {},
   "outputs": [],
   "source": []
  },
  {
   "cell_type": "code",
   "execution_count": null,
   "metadata": {},
   "outputs": [],
   "source": []
  }
 ],
 "metadata": {
  "kernelspec": {
   "display_name": "Python 3",
   "language": "python",
   "name": "python3"
  },
  "language_info": {
   "codemirror_mode": {
    "name": "ipython",
    "version": 3
   },
   "file_extension": ".py",
   "mimetype": "text/x-python",
   "name": "python",
   "nbconvert_exporter": "python",
   "pygments_lexer": "ipython3",
   "version": "3.7.1"
  }
 },
 "nbformat": 4,
 "nbformat_minor": 2
}
